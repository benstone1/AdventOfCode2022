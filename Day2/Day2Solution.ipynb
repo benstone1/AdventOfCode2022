{
 "cells": [
  {
   "cell_type": "code",
   "execution_count": 8,
   "id": "6dc679fb",
   "metadata": {},
   "outputs": [
    {
     "name": "stdout",
     "output_type": "stream",
     "text": [
      "13009\n"
     ]
    }
   ],
   "source": [
    "## Part One\n",
    "with open('input2.txt') as file:\n",
    "    rounds = [line.rstrip().split() for line in file]\n",
    "\n",
    "def get_score(r):\n",
    "    score = ord(r[1]) - ord('X') + 1\n",
    "    if ord(r[1]) - ord(r[0]) == ord('X') - ord('A'):\n",
    "        score += 3\n",
    "    else:\n",
    "        if r[1] == 'X':\n",
    "            score += 6 if r[0] == 'C' else 0\n",
    "        elif r[1] == \"Y\":\n",
    "            score += 6 if r[0] == 'A' else 0\n",
    "        elif r[1] == 'Z':\n",
    "            score += 6 if r[0] == 'B' else 0\n",
    "    return score\n",
    "\n",
    "scores = [get_score(round) for round in rounds]\n",
    "print(sum(scores))"
   ]
  },
  {
   "cell_type": "code",
   "execution_count": 23,
   "id": "1032d92b",
   "metadata": {},
   "outputs": [
    {
     "name": "stdout",
     "output_type": "stream",
     "text": [
      "10398\n"
     ]
    }
   ],
   "source": [
    "## Part Two\n",
    "def winning_shape(s):\n",
    "    return \"paper\" if s == \"rock\" else \"scissors\" if s == \"paper\" else \"rock\"\n",
    "\n",
    "def drawing_shape(s):\n",
    "    return s\n",
    "\n",
    "def losing_shape(s):\n",
    "    return \"scissors\" if s == \"rock\" else \"rock\" if s == \"paper\" else \"paper\"\n",
    "\n",
    "def get_score_part_two(r):\n",
    "    enemy_play = \"rock\" if r[0] == \"A\" else \"paper\" if r[0] == \"B\" else \"scissors\"\n",
    "    game_end = \"lose\" if r[1] == \"X\" else \"draw\" if r[1] == \"Y\" else \"win\"\n",
    "    play_values = {\"rock\": 1, \"paper\": 2, \"scissors\": 3}\n",
    "    score = 0\n",
    "    if game_end == \"lose\":\n",
    "        score += 0\n",
    "        score += play_values[losing_shape(enemy_play)]\n",
    "    elif game_end == \"draw\":\n",
    "        score += 3\n",
    "        score += play_values[drawing_shape(enemy_play)]\n",
    "    elif game_end == \"win\":\n",
    "        score += 6\n",
    "        score += play_values[winning_shape(enemy_play)]\n",
    "    return score\n",
    "\n",
    "print(sum([get_score_part_two(round) for round in rounds]))"
   ]
  }
 ],
 "metadata": {
  "kernelspec": {
   "display_name": "Python [conda env:root] *",
   "language": "python",
   "name": "conda-root-py"
  },
  "language_info": {
   "codemirror_mode": {
    "name": "ipython",
    "version": 3
   },
   "file_extension": ".py",
   "mimetype": "text/x-python",
   "name": "python",
   "nbconvert_exporter": "python",
   "pygments_lexer": "ipython3",
   "version": "3.9.12"
  }
 },
 "nbformat": 4,
 "nbformat_minor": 5
}
