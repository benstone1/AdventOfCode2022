{
 "cells": [
  {
   "cell_type": "code",
   "execution_count": 41,
   "id": "b4b708a1",
   "metadata": {},
   "outputs": [
    {
     "name": "stdout",
     "output_type": "stream",
     "text": [
      "74711\n"
     ]
    }
   ],
   "source": [
    "# Part One\n",
    "with open('input.txt') as f:\n",
    "    lines = [line.rstrip() for line in f]\n",
    "\n",
    "calories = []\n",
    "running_calory_sum = 0\n",
    "for line in lines:\n",
    "    if line == \"\":\n",
    "        calories.append(running_calory_sum)\n",
    "        running_calory_sum = 0\n",
    "    else:\n",
    "        running_calory_sum += int(line)        \n",
    "print(max(calories))"
   ]
  },
  {
   "cell_type": "code",
   "execution_count": 42,
   "id": "43668b7c",
   "metadata": {},
   "outputs": [
    {
     "data": {
      "text/plain": [
       "209481"
      ]
     },
     "execution_count": 42,
     "metadata": {},
     "output_type": "execute_result"
    }
   ],
   "source": [
    "# Part Two\n",
    "calories.sort(reverse=True)\n",
    "sum(list(calories[:3]))"
   ]
  },
  {
   "cell_type": "code",
   "execution_count": null,
   "id": "fa67b7c4",
   "metadata": {},
   "outputs": [],
   "source": []
  }
 ],
 "metadata": {
  "kernelspec": {
   "display_name": "Python [conda env:root] *",
   "language": "python",
   "name": "conda-root-py"
  },
  "language_info": {
   "codemirror_mode": {
    "name": "ipython",
    "version": 3
   },
   "file_extension": ".py",
   "mimetype": "text/x-python",
   "name": "python",
   "nbconvert_exporter": "python",
   "pygments_lexer": "ipython3",
   "version": "3.9.12"
  }
 },
 "nbformat": 4,
 "nbformat_minor": 5
}
