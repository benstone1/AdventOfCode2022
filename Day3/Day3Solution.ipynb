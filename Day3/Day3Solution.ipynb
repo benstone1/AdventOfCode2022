{
 "cells": [
  {
   "cell_type": "code",
   "execution_count": 25,
   "id": "ed40bbe7",
   "metadata": {},
   "outputs": [
    {
     "name": "stdout",
     "output_type": "stream",
     "text": [
      "7848\n"
     ]
    }
   ],
   "source": [
    "with open('input3.txt') as file:\n",
    "    lines = [line.rstrip() for line in file]\n",
    "\n",
    "def get_p_value_from_set(s):\n",
    "    (item,) = s\n",
    "    item_index = string.ascii_lowercase.index(item.lower())\n",
    "    return item_index + 1 if item.lower() == item else item_index + 27\n",
    "    \n",
    "p_sum = 0\n",
    "for s in [set(line[:int(len(line)/2)]).intersection(set(line[int(len(line)/2):])) for line in lines]:\n",
    "    p_sum += get_p_value_from_set(s)\n",
    "    \n",
    "print(p_sum)"
   ]
  },
  {
   "cell_type": "code",
   "execution_count": 26,
   "id": "0e1fd2a5",
   "metadata": {},
   "outputs": [
    {
     "name": "stdout",
     "output_type": "stream",
     "text": [
      "2616\n"
     ]
    }
   ],
   "source": [
    "p_sum_2 = 0\n",
    "for i in range(0,len(lines),3):\n",
    "    e1, e2, e3 = lines[i], lines[i+1], lines[i+2]\n",
    "    p_sum_2 += get_p_value_from_set((set(e1).intersection(set(e2).intersection(set(e3)))))\n",
    "print(p_sum_2)\n",
    "    "
   ]
  },
  {
   "cell_type": "code",
   "execution_count": null,
   "id": "c195aa96",
   "metadata": {},
   "outputs": [],
   "source": []
  }
 ],
 "metadata": {
  "kernelspec": {
   "display_name": "Python [conda env:root] *",
   "language": "python",
   "name": "conda-root-py"
  },
  "language_info": {
   "codemirror_mode": {
    "name": "ipython",
    "version": 3
   },
   "file_extension": ".py",
   "mimetype": "text/x-python",
   "name": "python",
   "nbconvert_exporter": "python",
   "pygments_lexer": "ipython3",
   "version": "3.9.12"
  }
 },
 "nbformat": 4,
 "nbformat_minor": 5
}
